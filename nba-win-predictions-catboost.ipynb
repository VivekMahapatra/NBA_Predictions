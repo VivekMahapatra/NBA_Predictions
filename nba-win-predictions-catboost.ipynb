{
 "cells": [
  {
   "cell_type": "code",
   "execution_count": 1,
   "id": "35bec5b8",
   "metadata": {
    "_cell_guid": "b1076dfc-b9ad-4769-8c92-a6c4dae69d19",
    "_uuid": "8f2839f25d086af736a60e9eeb907d3b93b6e0e5",
    "execution": {
     "iopub.execute_input": "2022-12-06T22:30:53.300129Z",
     "iopub.status.busy": "2022-12-06T22:30:53.298900Z",
     "iopub.status.idle": "2022-12-06T22:30:55.065845Z",
     "shell.execute_reply": "2022-12-06T22:30:55.064672Z"
    },
    "papermill": {
     "duration": 1.777877,
     "end_time": "2022-12-06T22:30:55.068862",
     "exception": false,
     "start_time": "2022-12-06T22:30:53.290985",
     "status": "completed"
    },
    "tags": []
   },
   "outputs": [
    {
     "name": "stdout",
     "output_type": "stream",
     "text": [
      "/kaggle/input/nba-datasets/combined_stats_19to20_with_target.csv\n",
      "/kaggle/input/nba-datasets/combined_stats_20to21_with_target.csv\n",
      "/kaggle/input/nba-datasets/combined_stats_21to22_with_target.csv\n",
      "/kaggle/input/nbadatasets/test_data_ratios.csv\n",
      "/kaggle/input/nbadatasets/train_data_ratios.csv\n"
     ]
    }
   ],
   "source": [
    "# This Python 3 environment comes with many helpful analytics libraries installed\n",
    "# It is defined by the kaggle/python Docker image: https://github.com/kaggle/docker-python\n",
    "# For example, here's several helpful packages to load\n",
    "\n",
    "import numpy as np # linear algebra\n",
    "import pandas as pd # data processing, CSV file I/O (e.g. pd.read_csv)\n",
    "import matplotlib.pyplot as plt\n",
    "import seaborn as sns\n",
    "import math \n",
    "from xgboost import XGBClassifier\n",
    "from sklearn.model_selection import cross_val_score, train_test_split, RandomizedSearchCV, GridSearchCV\n",
    "from sklearn.metrics import accuracy_score, roc_auc_score, roc_curve\n",
    "from sklearn.linear_model import LogisticRegression, RidgeClassifier, Lasso\n",
    "from sklearn.ensemble import RandomForestClassifier, VotingClassifier\n",
    "from catboost import CatBoostClassifier\n",
    "from scipy.stats import uniform as sp_randFloat\n",
    "from scipy.stats import randint as sp_randInt\n",
    "\n",
    "# Input data files are available in the read-only \"../input/\" directory\n",
    "# For example, running this (by clicking run or pressing Shift+Enter) will list all files under the input directory\n",
    "\n",
    "import os\n",
    "for dirname, _, filenames in os.walk('/kaggle/input'):\n",
    "    for filename in filenames:\n",
    "        print(os.path.join(dirname, filename))\n",
    "\n",
    "# You can write up to 20GB to the current directory (/kaggle/working/) that gets preserved as output when you create a version using \"Save & Run All\" \n",
    "# You can also write temporary files to /kaggle/temp/, but they won't be saved outside of the current session"
   ]
  },
  {
   "cell_type": "code",
   "execution_count": 2,
   "id": "1d726d05",
   "metadata": {
    "execution": {
     "iopub.execute_input": "2022-12-06T22:30:55.080470Z",
     "iopub.status.busy": "2022-12-06T22:30:55.080079Z",
     "iopub.status.idle": "2022-12-06T22:30:55.113080Z",
     "shell.execute_reply": "2022-12-06T22:30:55.112176Z"
    },
    "papermill": {
     "duration": 0.041848,
     "end_time": "2022-12-06T22:30:55.115717",
     "exception": false,
     "start_time": "2022-12-06T22:30:55.073869",
     "status": "completed"
    },
    "tags": []
   },
   "outputs": [],
   "source": [
    "year1 = pd.read_csv('../input/nba-datasets/combined_stats_19to20_with_target.csv')\n",
    "year2 = pd.read_csv('../input/nba-datasets/combined_stats_20to21_with_target.csv')\n",
    "year3 = pd.read_csv('../input/nba-datasets/combined_stats_21to22_with_target.csv')"
   ]
  },
  {
   "cell_type": "code",
   "execution_count": 3,
   "id": "834289b7",
   "metadata": {
    "execution": {
     "iopub.execute_input": "2022-12-06T22:30:55.127844Z",
     "iopub.status.busy": "2022-12-06T22:30:55.126998Z",
     "iopub.status.idle": "2022-12-06T22:30:55.180381Z",
     "shell.execute_reply": "2022-12-06T22:30:55.178943Z"
    },
    "papermill": {
     "duration": 0.062234,
     "end_time": "2022-12-06T22:30:55.183003",
     "exception": false,
     "start_time": "2022-12-06T22:30:55.120769",
     "status": "completed"
    },
    "tags": []
   },
   "outputs": [
    {
     "data": {
      "text/html": [
       "<div>\n",
       "<style scoped>\n",
       "    .dataframe tbody tr th:only-of-type {\n",
       "        vertical-align: middle;\n",
       "    }\n",
       "\n",
       "    .dataframe tbody tr th {\n",
       "        vertical-align: top;\n",
       "    }\n",
       "\n",
       "    .dataframe thead th {\n",
       "        text-align: right;\n",
       "    }\n",
       "</style>\n",
       "<table border=\"1\" class=\"dataframe\">\n",
       "  <thead>\n",
       "    <tr style=\"text-align: right;\">\n",
       "      <th></th>\n",
       "      <th>G_OFF</th>\n",
       "      <th>MP_OFF</th>\n",
       "      <th>FG%_OFF</th>\n",
       "      <th>3P%_OFF</th>\n",
       "      <th>2P%_OFF</th>\n",
       "      <th>FT%_OFF</th>\n",
       "      <th>ORB_OFF</th>\n",
       "      <th>DRB_OFF</th>\n",
       "      <th>TRB_OFF</th>\n",
       "      <th>AST_OFF</th>\n",
       "      <th>...</th>\n",
       "      <th>DRB_DEF</th>\n",
       "      <th>TRB_DEF</th>\n",
       "      <th>AST_DEF</th>\n",
       "      <th>STL_DEF</th>\n",
       "      <th>BLK_DEF</th>\n",
       "      <th>TOV_DEF</th>\n",
       "      <th>PF_DEF</th>\n",
       "      <th>PTS_DEF</th>\n",
       "      <th>WON_MORE_THAN_HALF</th>\n",
       "      <th>Eastern Conference</th>\n",
       "    </tr>\n",
       "  </thead>\n",
       "  <tbody>\n",
       "    <tr>\n",
       "      <th>0</th>\n",
       "      <td>67</td>\n",
       "      <td>243.0</td>\n",
       "      <td>0.449</td>\n",
       "      <td>0.333</td>\n",
       "      <td>0.525</td>\n",
       "      <td>0.790</td>\n",
       "      <td>9.9</td>\n",
       "      <td>33.4</td>\n",
       "      <td>43.3</td>\n",
       "      <td>24.0</td>\n",
       "      <td>...</td>\n",
       "      <td>35.9</td>\n",
       "      <td>47.0</td>\n",
       "      <td>25.0</td>\n",
       "      <td>9.0</td>\n",
       "      <td>6.4</td>\n",
       "      <td>15.0</td>\n",
       "      <td>21.0</td>\n",
       "      <td>119.7</td>\n",
       "      <td>0</td>\n",
       "      <td>1</td>\n",
       "    </tr>\n",
       "    <tr>\n",
       "      <th>1</th>\n",
       "      <td>72</td>\n",
       "      <td>242.1</td>\n",
       "      <td>0.461</td>\n",
       "      <td>0.364</td>\n",
       "      <td>0.522</td>\n",
       "      <td>0.801</td>\n",
       "      <td>10.7</td>\n",
       "      <td>35.4</td>\n",
       "      <td>46.1</td>\n",
       "      <td>23.0</td>\n",
       "      <td>...</td>\n",
       "      <td>34.0</td>\n",
       "      <td>44.3</td>\n",
       "      <td>22.4</td>\n",
       "      <td>7.1</td>\n",
       "      <td>5.5</td>\n",
       "      <td>15.2</td>\n",
       "      <td>20.7</td>\n",
       "      <td>107.3</td>\n",
       "      <td>1</td>\n",
       "      <td>1</td>\n",
       "    </tr>\n",
       "    <tr>\n",
       "      <th>2</th>\n",
       "      <td>72</td>\n",
       "      <td>242.8</td>\n",
       "      <td>0.448</td>\n",
       "      <td>0.343</td>\n",
       "      <td>0.524</td>\n",
       "      <td>0.745</td>\n",
       "      <td>10.6</td>\n",
       "      <td>37.3</td>\n",
       "      <td>47.9</td>\n",
       "      <td>24.5</td>\n",
       "      <td>...</td>\n",
       "      <td>35.3</td>\n",
       "      <td>45.9</td>\n",
       "      <td>22.6</td>\n",
       "      <td>7.7</td>\n",
       "      <td>5.3</td>\n",
       "      <td>12.8</td>\n",
       "      <td>21.1</td>\n",
       "      <td>112.3</td>\n",
       "      <td>0</td>\n",
       "      <td>1</td>\n",
       "    </tr>\n",
       "    <tr>\n",
       "      <th>3</th>\n",
       "      <td>65</td>\n",
       "      <td>242.3</td>\n",
       "      <td>0.434</td>\n",
       "      <td>0.352</td>\n",
       "      <td>0.489</td>\n",
       "      <td>0.748</td>\n",
       "      <td>11.0</td>\n",
       "      <td>31.8</td>\n",
       "      <td>42.8</td>\n",
       "      <td>23.8</td>\n",
       "      <td>...</td>\n",
       "      <td>35.0</td>\n",
       "      <td>46.0</td>\n",
       "      <td>26.6</td>\n",
       "      <td>8.0</td>\n",
       "      <td>5.0</td>\n",
       "      <td>14.4</td>\n",
       "      <td>20.6</td>\n",
       "      <td>109.6</td>\n",
       "      <td>0</td>\n",
       "      <td>1</td>\n",
       "    </tr>\n",
       "    <tr>\n",
       "      <th>4</th>\n",
       "      <td>65</td>\n",
       "      <td>241.2</td>\n",
       "      <td>0.447</td>\n",
       "      <td>0.348</td>\n",
       "      <td>0.511</td>\n",
       "      <td>0.755</td>\n",
       "      <td>10.5</td>\n",
       "      <td>31.4</td>\n",
       "      <td>41.9</td>\n",
       "      <td>23.2</td>\n",
       "      <td>...</td>\n",
       "      <td>35.4</td>\n",
       "      <td>45.5</td>\n",
       "      <td>25.4</td>\n",
       "      <td>8.2</td>\n",
       "      <td>5.9</td>\n",
       "      <td>18.3</td>\n",
       "      <td>19.2</td>\n",
       "      <td>109.9</td>\n",
       "      <td>0</td>\n",
       "      <td>1</td>\n",
       "    </tr>\n",
       "  </tbody>\n",
       "</table>\n",
       "<p>5 rows × 32 columns</p>\n",
       "</div>"
      ],
      "text/plain": [
       "   G_OFF  MP_OFF  FG%_OFF  3P%_OFF  2P%_OFF  FT%_OFF  ORB_OFF  DRB_OFF  \\\n",
       "0     67   243.0    0.449    0.333    0.525    0.790      9.9     33.4   \n",
       "1     72   242.1    0.461    0.364    0.522    0.801     10.7     35.4   \n",
       "2     72   242.8    0.448    0.343    0.524    0.745     10.6     37.3   \n",
       "3     65   242.3    0.434    0.352    0.489    0.748     11.0     31.8   \n",
       "4     65   241.2    0.447    0.348    0.511    0.755     10.5     31.4   \n",
       "\n",
       "   TRB_OFF  AST_OFF  ...  DRB_DEF  TRB_DEF  AST_DEF  STL_DEF  BLK_DEF  \\\n",
       "0     43.3     24.0  ...     35.9     47.0     25.0      9.0      6.4   \n",
       "1     46.1     23.0  ...     34.0     44.3     22.4      7.1      5.5   \n",
       "2     47.9     24.5  ...     35.3     45.9     22.6      7.7      5.3   \n",
       "3     42.8     23.8  ...     35.0     46.0     26.6      8.0      5.0   \n",
       "4     41.9     23.2  ...     35.4     45.5     25.4      8.2      5.9   \n",
       "\n",
       "   TOV_DEF  PF_DEF  PTS_DEF  WON_MORE_THAN_HALF  Eastern Conference  \n",
       "0     15.0    21.0    119.7                   0                   1  \n",
       "1     15.2    20.7    107.3                   1                   1  \n",
       "2     12.8    21.1    112.3                   0                   1  \n",
       "3     14.4    20.6    109.6                   0                   1  \n",
       "4     18.3    19.2    109.9                   0                   1  \n",
       "\n",
       "[5 rows x 32 columns]"
      ]
     },
     "execution_count": 3,
     "metadata": {},
     "output_type": "execute_result"
    }
   ],
   "source": [
    "# train_data = pd.concat( map(pd.read_csv, ['../input/nba-datasets/combined_stats_19to20_with_target.csv', '../input/nba-datasets/combined_stats_20to21_with_target.csv']), ignore_index=True)\n",
    "# print(f'The shape of the train_data is: {train_data.shape}\\n')\n",
    "train_data = pd.read_csv('../input/nbadatasets/train_data_ratios.csv')\n",
    "train_data.head()"
   ]
  },
  {
   "cell_type": "code",
   "execution_count": 4,
   "id": "2ad9cfa8",
   "metadata": {
    "execution": {
     "iopub.execute_input": "2022-12-06T22:30:55.197190Z",
     "iopub.status.busy": "2022-12-06T22:30:55.196750Z",
     "iopub.status.idle": "2022-12-06T22:30:55.247912Z",
     "shell.execute_reply": "2022-12-06T22:30:55.246793Z"
    },
    "papermill": {
     "duration": 0.061909,
     "end_time": "2022-12-06T22:30:55.250648",
     "exception": false,
     "start_time": "2022-12-06T22:30:55.188739",
     "status": "completed"
    },
    "tags": []
   },
   "outputs": [
    {
     "data": {
      "text/html": [
       "<div>\n",
       "<style scoped>\n",
       "    .dataframe tbody tr th:only-of-type {\n",
       "        vertical-align: middle;\n",
       "    }\n",
       "\n",
       "    .dataframe tbody tr th {\n",
       "        vertical-align: top;\n",
       "    }\n",
       "\n",
       "    .dataframe thead th {\n",
       "        text-align: right;\n",
       "    }\n",
       "</style>\n",
       "<table border=\"1\" class=\"dataframe\">\n",
       "  <thead>\n",
       "    <tr style=\"text-align: right;\">\n",
       "      <th></th>\n",
       "      <th>G_OFF</th>\n",
       "      <th>MP_OFF</th>\n",
       "      <th>FG%_OFF</th>\n",
       "      <th>3P%_OFF</th>\n",
       "      <th>2P%_OFF</th>\n",
       "      <th>FT%_OFF</th>\n",
       "      <th>ORB_OFF</th>\n",
       "      <th>DRB_OFF</th>\n",
       "      <th>TRB_OFF</th>\n",
       "      <th>AST_OFF</th>\n",
       "      <th>...</th>\n",
       "      <th>ORB_DEF</th>\n",
       "      <th>DRB_DEF</th>\n",
       "      <th>TRB_DEF</th>\n",
       "      <th>AST_DEF</th>\n",
       "      <th>STL_DEF</th>\n",
       "      <th>BLK_DEF</th>\n",
       "      <th>TOV_DEF</th>\n",
       "      <th>PF_DEF</th>\n",
       "      <th>PTS_DEF</th>\n",
       "      <th>Eastern Conference</th>\n",
       "    </tr>\n",
       "  </thead>\n",
       "  <tbody>\n",
       "    <tr>\n",
       "      <th>0</th>\n",
       "      <td>82</td>\n",
       "      <td>240.3</td>\n",
       "      <td>0.470</td>\n",
       "      <td>0.374</td>\n",
       "      <td>0.531</td>\n",
       "      <td>0.812</td>\n",
       "      <td>10.0</td>\n",
       "      <td>33.9</td>\n",
       "      <td>44.0</td>\n",
       "      <td>24.6</td>\n",
       "      <td>...</td>\n",
       "      <td>10.2</td>\n",
       "      <td>33.6</td>\n",
       "      <td>43.9</td>\n",
       "      <td>25.4</td>\n",
       "      <td>7.0</td>\n",
       "      <td>4.5</td>\n",
       "      <td>12.8</td>\n",
       "      <td>20.3</td>\n",
       "      <td>112.4</td>\n",
       "      <td>0</td>\n",
       "    </tr>\n",
       "    <tr>\n",
       "      <th>1</th>\n",
       "      <td>82</td>\n",
       "      <td>242.7</td>\n",
       "      <td>0.466</td>\n",
       "      <td>0.356</td>\n",
       "      <td>0.547</td>\n",
       "      <td>0.816</td>\n",
       "      <td>10.5</td>\n",
       "      <td>35.5</td>\n",
       "      <td>46.1</td>\n",
       "      <td>24.8</td>\n",
       "      <td>...</td>\n",
       "      <td>10.5</td>\n",
       "      <td>33.3</td>\n",
       "      <td>43.7</td>\n",
       "      <td>21.6</td>\n",
       "      <td>7.5</td>\n",
       "      <td>4.6</td>\n",
       "      <td>13.8</td>\n",
       "      <td>19.4</td>\n",
       "      <td>104.5</td>\n",
       "      <td>1</td>\n",
       "    </tr>\n",
       "    <tr>\n",
       "      <th>2</th>\n",
       "      <td>82</td>\n",
       "      <td>240.9</td>\n",
       "      <td>0.475</td>\n",
       "      <td>0.361</td>\n",
       "      <td>0.538</td>\n",
       "      <td>0.805</td>\n",
       "      <td>10.3</td>\n",
       "      <td>34.1</td>\n",
       "      <td>44.4</td>\n",
       "      <td>25.3</td>\n",
       "      <td>...</td>\n",
       "      <td>11.3</td>\n",
       "      <td>32.8</td>\n",
       "      <td>44.1</td>\n",
       "      <td>23.8</td>\n",
       "      <td>7.9</td>\n",
       "      <td>4.9</td>\n",
       "      <td>13.3</td>\n",
       "      <td>19.7</td>\n",
       "      <td>112.1</td>\n",
       "      <td>1</td>\n",
       "    </tr>\n",
       "    <tr>\n",
       "      <th>3</th>\n",
       "      <td>82</td>\n",
       "      <td>242.4</td>\n",
       "      <td>0.468</td>\n",
       "      <td>0.365</td>\n",
       "      <td>0.542</td>\n",
       "      <td>0.740</td>\n",
       "      <td>10.8</td>\n",
       "      <td>33.7</td>\n",
       "      <td>44.6</td>\n",
       "      <td>28.1</td>\n",
       "      <td>...</td>\n",
       "      <td>11.4</td>\n",
       "      <td>35.6</td>\n",
       "      <td>47.0</td>\n",
       "      <td>26.5</td>\n",
       "      <td>7.5</td>\n",
       "      <td>4.6</td>\n",
       "      <td>15.0</td>\n",
       "      <td>19.6</td>\n",
       "      <td>114.9</td>\n",
       "      <td>1</td>\n",
       "    </tr>\n",
       "    <tr>\n",
       "      <th>4</th>\n",
       "      <td>82</td>\n",
       "      <td>240.6</td>\n",
       "      <td>0.480</td>\n",
       "      <td>0.369</td>\n",
       "      <td>0.535</td>\n",
       "      <td>0.813</td>\n",
       "      <td>8.7</td>\n",
       "      <td>33.7</td>\n",
       "      <td>42.3</td>\n",
       "      <td>23.9</td>\n",
       "      <td>...</td>\n",
       "      <td>9.3</td>\n",
       "      <td>33.9</td>\n",
       "      <td>43.2</td>\n",
       "      <td>25.0</td>\n",
       "      <td>7.1</td>\n",
       "      <td>5.0</td>\n",
       "      <td>13.1</td>\n",
       "      <td>18.2</td>\n",
       "      <td>112.0</td>\n",
       "      <td>0</td>\n",
       "    </tr>\n",
       "  </tbody>\n",
       "</table>\n",
       "<p>5 rows × 31 columns</p>\n",
       "</div>"
      ],
      "text/plain": [
       "   G_OFF  MP_OFF  FG%_OFF  3P%_OFF  2P%_OFF  FT%_OFF  ORB_OFF  DRB_OFF  \\\n",
       "0     82   240.3    0.470    0.374    0.531    0.812     10.0     33.9   \n",
       "1     82   242.7    0.466    0.356    0.547    0.816     10.5     35.5   \n",
       "2     82   240.9    0.475    0.361    0.538    0.805     10.3     34.1   \n",
       "3     82   242.4    0.468    0.365    0.542    0.740     10.8     33.7   \n",
       "4     82   240.6    0.480    0.369    0.535    0.813      8.7     33.7   \n",
       "\n",
       "   TRB_OFF  AST_OFF  ...  ORB_DEF  DRB_DEF  TRB_DEF  AST_DEF  STL_DEF  \\\n",
       "0     44.0     24.6  ...     10.2     33.6     43.9     25.4      7.0   \n",
       "1     46.1     24.8  ...     10.5     33.3     43.7     21.6      7.5   \n",
       "2     44.4     25.3  ...     11.3     32.8     44.1     23.8      7.9   \n",
       "3     44.6     28.1  ...     11.4     35.6     47.0     26.5      7.5   \n",
       "4     42.3     23.9  ...      9.3     33.9     43.2     25.0      7.1   \n",
       "\n",
       "   BLK_DEF  TOV_DEF  PF_DEF  PTS_DEF  Eastern Conference  \n",
       "0      4.5     12.8    20.3    112.4                   0  \n",
       "1      4.6     13.8    19.4    104.5                   1  \n",
       "2      4.9     13.3    19.7    112.1                   1  \n",
       "3      4.6     15.0    19.6    114.9                   1  \n",
       "4      5.0     13.1    18.2    112.0                   0  \n",
       "\n",
       "[5 rows x 31 columns]"
      ]
     },
     "execution_count": 4,
     "metadata": {},
     "output_type": "execute_result"
    }
   ],
   "source": [
    "test_data = pd.read_csv('../input/nbadatasets/test_data_ratios.csv')\n",
    "answers = test_data['WON_MORE_THAN_HALF']\n",
    "# test_data = year3\n",
    "test_data.drop('WON_MORE_THAN_HALF', axis = 1, inplace = True)\\\n",
    "# test_data.drop('WON_MORE_THAN_HALF')\n",
    "test_data.head()"
   ]
  },
  {
   "cell_type": "code",
   "execution_count": 5,
   "id": "3341211e",
   "metadata": {
    "execution": {
     "iopub.execute_input": "2022-12-06T22:30:55.263716Z",
     "iopub.status.busy": "2022-12-06T22:30:55.263310Z",
     "iopub.status.idle": "2022-12-06T22:30:55.268303Z",
     "shell.execute_reply": "2022-12-06T22:30:55.267190Z"
    },
    "papermill": {
     "duration": 0.014233,
     "end_time": "2022-12-06T22:30:55.270736",
     "exception": false,
     "start_time": "2022-12-06T22:30:55.256503",
     "status": "completed"
    },
    "tags": []
   },
   "outputs": [],
   "source": [
    "# teams = test_data['Team']\n",
    "# answers = test_data['WON_MORE_THAN_HALF']\n",
    "\n",
    "# Now drop the 'Id' column since it's unnecessary for  the prediction process.\n",
    "# train_data.drop(\"Team\", axis = 1, inplace = True)\n",
    "# test_data.drop(\"Team\", axis = 1, inplace = True)\n"
   ]
  },
  {
   "cell_type": "code",
   "execution_count": 6,
   "id": "d30eaf2e",
   "metadata": {
    "execution": {
     "iopub.execute_input": "2022-12-06T22:30:55.284075Z",
     "iopub.status.busy": "2022-12-06T22:30:55.283621Z",
     "iopub.status.idle": "2022-12-06T22:30:55.300761Z",
     "shell.execute_reply": "2022-12-06T22:30:55.299693Z"
    },
    "papermill": {
     "duration": 0.027077,
     "end_time": "2022-12-06T22:30:55.303498",
     "exception": false,
     "start_time": "2022-12-06T22:30:55.276421",
     "status": "completed"
    },
    "tags": []
   },
   "outputs": [],
   "source": [
    "# X = train_data.iloc[:, :30]\n",
    "# y = train_data.WON_MORE_THAN_HALF\n",
    "# x_train, x_test, y_train, y_test = train_test_split(X, y, test_size=0.20, random_state=42)\n",
    "train_data = pd.read_csv('../input/nbadatasets/train_data_ratios.csv')\n",
    "test_data = pd.read_csv('../input/nbadatasets/test_data_ratios.csv')\n",
    "X_train = train_data.drop(['WON_MORE_THAN_HALF'], axis=1)\n",
    "y_train = train_data['WON_MORE_THAN_HALF']\n",
    "X_test = test_data.drop(['WON_MORE_THAN_HALF'], axis=1)\n",
    "y_test = test_data['WON_MORE_THAN_HALF']"
   ]
  },
  {
   "cell_type": "code",
   "execution_count": 7,
   "id": "b39c534b",
   "metadata": {
    "execution": {
     "iopub.execute_input": "2022-12-06T22:30:55.316817Z",
     "iopub.status.busy": "2022-12-06T22:30:55.315989Z",
     "iopub.status.idle": "2022-12-06T22:30:55.321466Z",
     "shell.execute_reply": "2022-12-06T22:30:55.320272Z"
    },
    "papermill": {
     "duration": 0.01466,
     "end_time": "2022-12-06T22:30:55.323802",
     "exception": false,
     "start_time": "2022-12-06T22:30:55.309142",
     "status": "completed"
    },
    "tags": []
   },
   "outputs": [],
   "source": [
    "# x_train.shape, y_train.shape"
   ]
  },
  {
   "cell_type": "code",
   "execution_count": 8,
   "id": "22039597",
   "metadata": {
    "execution": {
     "iopub.execute_input": "2022-12-06T22:30:55.336410Z",
     "iopub.status.busy": "2022-12-06T22:30:55.335883Z",
     "iopub.status.idle": "2022-12-06T22:30:55.340585Z",
     "shell.execute_reply": "2022-12-06T22:30:55.339468Z"
    },
    "papermill": {
     "duration": 0.013888,
     "end_time": "2022-12-06T22:30:55.343144",
     "exception": false,
     "start_time": "2022-12-06T22:30:55.329256",
     "status": "completed"
    },
    "tags": []
   },
   "outputs": [],
   "source": [
    "# x_test.shape, y_test.shape"
   ]
  },
  {
   "cell_type": "markdown",
   "id": "70349d93",
   "metadata": {
    "papermill": {
     "duration": 0.005471,
     "end_time": "2022-12-06T22:30:55.354136",
     "exception": false,
     "start_time": "2022-12-06T22:30:55.348665",
     "status": "completed"
    },
    "tags": []
   },
   "source": [
    "**Base Cat Boost Model**"
   ]
  },
  {
   "cell_type": "code",
   "execution_count": 9,
   "id": "223df221",
   "metadata": {
    "execution": {
     "iopub.execute_input": "2022-12-06T22:30:55.366681Z",
     "iopub.status.busy": "2022-12-06T22:30:55.366308Z",
     "iopub.status.idle": "2022-12-06T22:30:56.681439Z",
     "shell.execute_reply": "2022-12-06T22:30:56.679960Z"
    },
    "papermill": {
     "duration": 1.325035,
     "end_time": "2022-12-06T22:30:56.684583",
     "exception": false,
     "start_time": "2022-12-06T22:30:55.359548",
     "status": "completed"
    },
    "tags": []
   },
   "outputs": [
    {
     "name": "stdout",
     "output_type": "stream",
     "text": [
      "The accuracy score using a test_size of 20% is 0.8333333333333334\n",
      "The area under the curve score using a test size of 20% is 0.8472222222222222\n"
     ]
    }
   ],
   "source": [
    "cb_base_model = CatBoostClassifier(verbose=False)\n",
    "cb_base_model.fit(X_train, y_train.values.ravel())\n",
    "preds = cb_base_model.predict(X_test)\n",
    "acc = accuracy_score(y_test, preds)\n",
    "auc = roc_auc_score(y_test, preds)\n",
    "print(f'The accuracy score using a test_size of 20% is {acc}')\n",
    "print(f'The area under the curve score using a test size of 20% is {auc}')\n",
    "y_preds = cb_base_model.predict(test_data)"
   ]
  },
  {
   "cell_type": "code",
   "execution_count": 10,
   "id": "f6b43bef",
   "metadata": {
    "execution": {
     "iopub.execute_input": "2022-12-06T22:30:56.697860Z",
     "iopub.status.busy": "2022-12-06T22:30:56.697066Z",
     "iopub.status.idle": "2022-12-06T22:30:56.703361Z",
     "shell.execute_reply": "2022-12-06T22:30:56.702531Z"
    },
    "papermill": {
     "duration": 0.015296,
     "end_time": "2022-12-06T22:30:56.705576",
     "exception": false,
     "start_time": "2022-12-06T22:30:56.690280",
     "status": "completed"
    },
    "tags": []
   },
   "outputs": [
    {
     "data": {
      "text/plain": [
       "array([0, 1, 1, 0, 0, 1, 1, 1, 0, 1, 0, 0, 1, 0, 1, 1, 1, 0, 0, 1, 0, 0,\n",
       "       1, 1, 0, 0, 0, 1, 1, 0])"
      ]
     },
     "execution_count": 10,
     "metadata": {},
     "output_type": "execute_result"
    }
   ],
   "source": [
    "y_preds"
   ]
  },
  {
   "cell_type": "code",
   "execution_count": 11,
   "id": "eac1e571",
   "metadata": {
    "execution": {
     "iopub.execute_input": "2022-12-06T22:30:56.718780Z",
     "iopub.status.busy": "2022-12-06T22:30:56.717801Z",
     "iopub.status.idle": "2022-12-06T22:30:56.725312Z",
     "shell.execute_reply": "2022-12-06T22:30:56.724194Z"
    },
    "papermill": {
     "duration": 0.016293,
     "end_time": "2022-12-06T22:30:56.727475",
     "exception": false,
     "start_time": "2022-12-06T22:30:56.711182",
     "status": "completed"
    },
    "tags": []
   },
   "outputs": [
    {
     "data": {
      "text/plain": [
       "0.8333333333333334"
      ]
     },
     "execution_count": 11,
     "metadata": {},
     "output_type": "execute_result"
    }
   ],
   "source": [
    "accuracy_score(answers, y_preds)"
   ]
  },
  {
   "cell_type": "markdown",
   "id": "3123e68e",
   "metadata": {
    "papermill": {
     "duration": 0.005299,
     "end_time": "2022-12-06T22:30:56.738480",
     "exception": false,
     "start_time": "2022-12-06T22:30:56.733181",
     "status": "completed"
    },
    "tags": []
   },
   "source": [
    "**Hyperparameter Tuning of Cat Boost Classifer**"
   ]
  },
  {
   "cell_type": "code",
   "execution_count": 12,
   "id": "816195c0",
   "metadata": {
    "execution": {
     "iopub.execute_input": "2022-12-06T22:30:56.752570Z",
     "iopub.status.busy": "2022-12-06T22:30:56.751307Z",
     "iopub.status.idle": "2022-12-06T22:30:57.973963Z",
     "shell.execute_reply": "2022-12-06T22:30:57.972497Z"
    },
    "papermill": {
     "duration": 1.232346,
     "end_time": "2022-12-06T22:30:57.976669",
     "exception": false,
     "start_time": "2022-12-06T22:30:56.744323",
     "status": "completed"
    },
    "tags": []
   },
   "outputs": [
    {
     "name": "stdout",
     "output_type": "stream",
     "text": [
      "The accuracy score is 0.7666666666666667\n",
      "The area under the curve score is 0.7916666666666666\n"
     ]
    }
   ],
   "source": [
    "cb_tuned_model = CatBoostClassifier(verbose=False,max_depth=6, n_estimators=1000, learning_rate=0.01, l2_leaf_reg=2)\n",
    "cb_tuned_model.fit(X_train, y_train.values.ravel())\n",
    "preds = cb_tuned_model.predict(X_test)\n",
    "acc = accuracy_score(y_test, preds)\n",
    "auc = roc_auc_score(y_test, preds)\n",
    "print(f'The accuracy score is {acc}')\n",
    "print(f'The area under the curve score is {auc}')\n",
    "y_preds = cb_tuned_model.predict(test_data)"
   ]
  },
  {
   "cell_type": "code",
   "execution_count": 13,
   "id": "51218096",
   "metadata": {
    "execution": {
     "iopub.execute_input": "2022-12-06T22:30:57.990563Z",
     "iopub.status.busy": "2022-12-06T22:30:57.989556Z",
     "iopub.status.idle": "2022-12-06T22:30:57.997529Z",
     "shell.execute_reply": "2022-12-06T22:30:57.996455Z"
    },
    "papermill": {
     "duration": 0.017378,
     "end_time": "2022-12-06T22:30:57.999983",
     "exception": false,
     "start_time": "2022-12-06T22:30:57.982605",
     "status": "completed"
    },
    "tags": []
   },
   "outputs": [
    {
     "data": {
      "text/plain": [
       "0.7666666666666667"
      ]
     },
     "execution_count": 13,
     "metadata": {},
     "output_type": "execute_result"
    }
   ],
   "source": [
    "accuracy_score(answers, y_preds)"
   ]
  },
  {
   "cell_type": "code",
   "execution_count": 14,
   "id": "f5f4b9e8",
   "metadata": {
    "execution": {
     "iopub.execute_input": "2022-12-06T22:30:58.014750Z",
     "iopub.status.busy": "2022-12-06T22:30:58.014000Z",
     "iopub.status.idle": "2022-12-06T22:30:58.054574Z",
     "shell.execute_reply": "2022-12-06T22:30:58.053276Z"
    },
    "papermill": {
     "duration": 0.05052,
     "end_time": "2022-12-06T22:30:58.057477",
     "exception": false,
     "start_time": "2022-12-06T22:30:58.006957",
     "status": "completed"
    },
    "tags": []
   },
   "outputs": [
    {
     "name": "stdout",
     "output_type": "stream",
     "text": [
      "The accuracy score is 0.9333333333333333\n",
      "The area under the curve score is 0.9305555555555555\n"
     ]
    },
    {
     "name": "stderr",
     "output_type": "stream",
     "text": [
      "/opt/conda/lib/python3.7/site-packages/sklearn/linear_model/_logistic.py:818: ConvergenceWarning: lbfgs failed to converge (status=1):\n",
      "STOP: TOTAL NO. of ITERATIONS REACHED LIMIT.\n",
      "\n",
      "Increase the number of iterations (max_iter) or scale the data as shown in:\n",
      "    https://scikit-learn.org/stable/modules/preprocessing.html\n",
      "Please also refer to the documentation for alternative solver options:\n",
      "    https://scikit-learn.org/stable/modules/linear_model.html#logistic-regression\n",
      "  extra_warning_msg=_LOGISTIC_SOLVER_CONVERGENCE_MSG,\n"
     ]
    }
   ],
   "source": [
    "lr_base_model = LogisticRegression()\n",
    "lr_base_model.fit(X_train, y_train)\n",
    "preds = lr_base_model.predict(X_test)\n",
    "acc = accuracy_score(y_test, preds)\n",
    "auc = roc_auc_score(y_test, preds)\n",
    "print(f'The accuracy score is {acc}')\n",
    "print(f'The area under the curve score is {auc}')\n",
    "# y_preds = lr_base_model.predict(test_data)"
   ]
  },
  {
   "cell_type": "code",
   "execution_count": 15,
   "id": "4a7e4253",
   "metadata": {
    "execution": {
     "iopub.execute_input": "2022-12-06T22:30:58.071565Z",
     "iopub.status.busy": "2022-12-06T22:30:58.071159Z",
     "iopub.status.idle": "2022-12-06T22:30:58.079015Z",
     "shell.execute_reply": "2022-12-06T22:30:58.077957Z"
    },
    "papermill": {
     "duration": 0.017801,
     "end_time": "2022-12-06T22:30:58.081504",
     "exception": false,
     "start_time": "2022-12-06T22:30:58.063703",
     "status": "completed"
    },
    "tags": []
   },
   "outputs": [
    {
     "data": {
      "text/plain": [
       "0.7666666666666667"
      ]
     },
     "execution_count": 15,
     "metadata": {},
     "output_type": "execute_result"
    }
   ],
   "source": [
    "accuracy_score(answers, y_preds)"
   ]
  }
 ],
 "metadata": {
  "kernelspec": {
   "display_name": "Python 3",
   "language": "python",
   "name": "python3"
  },
  "language_info": {
   "codemirror_mode": {
    "name": "ipython",
    "version": 3
   },
   "file_extension": ".py",
   "mimetype": "text/x-python",
   "name": "python",
   "nbconvert_exporter": "python",
   "pygments_lexer": "ipython3",
   "version": "3.7.12"
  },
  "papermill": {
   "default_parameters": {},
   "duration": 13.994905,
   "end_time": "2022-12-06T22:30:58.809331",
   "environment_variables": {},
   "exception": null,
   "input_path": "__notebook__.ipynb",
   "output_path": "__notebook__.ipynb",
   "parameters": {},
   "start_time": "2022-12-06T22:30:44.814426",
   "version": "2.3.4"
  }
 },
 "nbformat": 4,
 "nbformat_minor": 5
}
